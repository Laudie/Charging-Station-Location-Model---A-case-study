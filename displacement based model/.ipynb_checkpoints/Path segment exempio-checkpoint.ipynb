{
 "cells": [
  {
   "cell_type": "code",
   "execution_count": 15,
   "id": "2b3b858a",
   "metadata": {},
   "outputs": [
    {
     "name": "stderr",
     "output_type": "stream",
     "text": [
      "/Users/laudie/opt/anaconda3/envs/socialMining/lib/python3.9/site-packages/networkx/readwrite/graphml.py:1031: UserWarning: No key type for id zona_di_appartenenza. Using string\n",
      "  warnings.warn(f\"No key type for id {attr_id}. Using string\")\n",
      "/Users/laudie/opt/anaconda3/envs/socialMining/lib/python3.9/site-packages/networkx/readwrite/graphml.py:1031: UserWarning: No key type for id latitude. Using string\n",
      "  warnings.warn(f\"No key type for id {attr_id}. Using string\")\n",
      "/Users/laudie/opt/anaconda3/envs/socialMining/lib/python3.9/site-packages/networkx/readwrite/graphml.py:1031: UserWarning: No key type for id coordinates. Using string\n",
      "  warnings.warn(f\"No key type for id {attr_id}. Using string\")\n",
      "/Users/laudie/opt/anaconda3/envs/socialMining/lib/python3.9/site-packages/networkx/readwrite/graphml.py:1031: UserWarning: No key type for id geometry. Using string\n",
      "  warnings.warn(f\"No key type for id {attr_id}. Using string\")\n",
      "/Users/laudie/opt/anaconda3/envs/socialMining/lib/python3.9/site-packages/networkx/readwrite/graphml.py:1031: UserWarning: No key type for id descZona. Using string\n",
      "  warnings.warn(f\"No key type for id {attr_id}. Using string\")\n",
      "/Users/laudie/opt/anaconda3/envs/socialMining/lib/python3.9/site-packages/networkx/readwrite/graphml.py:1031: UserWarning: No key type for id linesCoordinates. Using string\n",
      "  warnings.warn(f\"No key type for id {attr_id}. Using string\")\n",
      "/Users/laudie/opt/anaconda3/envs/socialMining/lib/python3.9/site-packages/networkx/readwrite/graphml.py:1031: UserWarning: No key type for id codZona. Using string\n",
      "  warnings.warn(f\"No key type for id {attr_id}. Using string\")\n",
      "/Users/laudie/opt/anaconda3/envs/socialMining/lib/python3.9/site-packages/networkx/readwrite/graphml.py:1031: UserWarning: No key type for id labels. Using string\n",
      "  warnings.warn(f\"No key type for id {attr_id}. Using string\")\n",
      "/Users/laudie/opt/anaconda3/envs/socialMining/lib/python3.9/site-packages/networkx/readwrite/graphml.py:1031: UserWarning: No key type for id longitude. Using string\n",
      "  warnings.warn(f\"No key type for id {attr_id}. Using string\")\n",
      "/Users/laudie/opt/anaconda3/envs/socialMining/lib/python3.9/site-packages/networkx/readwrite/graphml.py:1031: UserWarning: No key type for id MEZZO_codice. Using string\n",
      "  warnings.warn(f\"No key type for id {attr_id}. Using string\")\n",
      "/Users/laudie/opt/anaconda3/envs/socialMining/lib/python3.9/site-packages/networkx/readwrite/graphml.py:1031: UserWarning: No key type for id junction. Using string\n",
      "  warnings.warn(f\"No key type for id {attr_id}. Using string\")\n",
      "/Users/laudie/opt/anaconda3/envs/socialMining/lib/python3.9/site-packages/networkx/readwrite/graphml.py:1031: UserWarning: No key type for id access. Using string\n",
      "  warnings.warn(f\"No key type for id {attr_id}. Using string\")\n",
      "/Users/laudie/opt/anaconda3/envs/socialMining/lib/python3.9/site-packages/networkx/readwrite/graphml.py:1031: UserWarning: No key type for id maxspeed. Using string\n",
      "  warnings.warn(f\"No key type for id {attr_id}. Using string\")\n",
      "/Users/laudie/opt/anaconda3/envs/socialMining/lib/python3.9/site-packages/networkx/readwrite/graphml.py:1031: UserWarning: No key type for id descFascia. Using string\n",
      "  warnings.warn(f\"No key type for id {attr_id}. Using string\")\n",
      "/Users/laudie/opt/anaconda3/envs/socialMining/lib/python3.9/site-packages/networkx/readwrite/graphml.py:1031: UserWarning: No key type for id MEZZO_aggregato. Using string\n",
      "  warnings.warn(f\"No key type for id {attr_id}. Using string\")\n",
      "/Users/laudie/opt/anaconda3/envs/socialMining/lib/python3.9/site-packages/networkx/readwrite/graphml.py:1031: UserWarning: No key type for id ref. Using string\n",
      "  warnings.warn(f\"No key type for id {attr_id}. Using string\")\n",
      "/Users/laudie/opt/anaconda3/envs/socialMining/lib/python3.9/site-packages/networkx/readwrite/graphml.py:1031: UserWarning: No key type for id lanes. Using string\n",
      "  warnings.warn(f\"No key type for id {attr_id}. Using string\")\n",
      "/Users/laudie/opt/anaconda3/envs/socialMining/lib/python3.9/site-packages/networkx/readwrite/graphml.py:1031: UserWarning: No key type for id est_width. Using string\n",
      "  warnings.warn(f\"No key type for id {attr_id}. Using string\")\n",
      "/Users/laudie/opt/anaconda3/envs/socialMining/lib/python3.9/site-packages/networkx/readwrite/graphml.py:1031: UserWarning: No key type for id highway. Using string\n",
      "  warnings.warn(f\"No key type for id {attr_id}. Using string\")\n",
      "/Users/laudie/opt/anaconda3/envs/socialMining/lib/python3.9/site-packages/networkx/readwrite/graphml.py:1031: UserWarning: No key type for id area. Using string\n",
      "  warnings.warn(f\"No key type for id {attr_id}. Using string\")\n",
      "/Users/laudie/opt/anaconda3/envs/socialMining/lib/python3.9/site-packages/networkx/readwrite/graphml.py:1031: UserWarning: No key type for id TIPO_VIAGGIO. Using string\n",
      "  warnings.warn(f\"No key type for id {attr_id}. Using string\")\n",
      "/Users/laudie/opt/anaconda3/envs/socialMining/lib/python3.9/site-packages/networkx/readwrite/graphml.py:1031: UserWarning: No key type for id length. Using string\n",
      "  warnings.warn(f\"No key type for id {attr_id}. Using string\")\n",
      "/Users/laudie/opt/anaconda3/envs/socialMining/lib/python3.9/site-packages/networkx/readwrite/graphml.py:1031: UserWarning: No key type for id label. Using string\n",
      "  warnings.warn(f\"No key type for id {attr_id}. Using string\")\n",
      "/Users/laudie/opt/anaconda3/envs/socialMining/lib/python3.9/site-packages/networkx/readwrite/graphml.py:1031: UserWarning: No key type for id oneway. Using string\n",
      "  warnings.warn(f\"No key type for id {attr_id}. Using string\")\n",
      "/Users/laudie/opt/anaconda3/envs/socialMining/lib/python3.9/site-packages/networkx/readwrite/graphml.py:1031: UserWarning: No key type for id MOTIVO_sistematicità. Using string\n",
      "  warnings.warn(f\"No key type for id {attr_id}. Using string\")\n",
      "/Users/laudie/opt/anaconda3/envs/socialMining/lib/python3.9/site-packages/networkx/readwrite/graphml.py:1031: UserWarning: No key type for id MOTIVO_aggregato. Using string\n",
      "  warnings.warn(f\"No key type for id {attr_id}. Using string\")\n",
      "/Users/laudie/opt/anaconda3/envs/socialMining/lib/python3.9/site-packages/networkx/readwrite/graphml.py:1031: UserWarning: No key type for id name. Using string\n",
      "  warnings.warn(f\"No key type for id {attr_id}. Using string\")\n",
      "/Users/laudie/opt/anaconda3/envs/socialMining/lib/python3.9/site-packages/networkx/readwrite/graphml.py:1031: UserWarning: No key type for id width. Using string\n",
      "  warnings.warn(f\"No key type for id {attr_id}. Using string\")\n",
      "/Users/laudie/opt/anaconda3/envs/socialMining/lib/python3.9/site-packages/networkx/readwrite/graphml.py:1031: UserWarning: No key type for id bridge. Using string\n",
      "  warnings.warn(f\"No key type for id {attr_id}. Using string\")\n",
      "/Users/laudie/opt/anaconda3/envs/socialMining/lib/python3.9/site-packages/networkx/readwrite/graphml.py:1031: UserWarning: No key type for id MOTIVO_codice. Using string\n",
      "  warnings.warn(f\"No key type for id {attr_id}. Using string\")\n",
      "/Users/laudie/opt/anaconda3/envs/socialMining/lib/python3.9/site-packages/networkx/readwrite/graphml.py:1031: UserWarning: No key type for id reversed. Using string\n",
      "  warnings.warn(f\"No key type for id {attr_id}. Using string\")\n",
      "/Users/laudie/opt/anaconda3/envs/socialMining/lib/python3.9/site-packages/networkx/readwrite/graphml.py:1031: UserWarning: No key type for id tunnel. Using string\n",
      "  warnings.warn(f\"No key type for id {attr_id}. Using string\")\n",
      "/Users/laudie/opt/anaconda3/envs/socialMining/lib/python3.9/site-packages/networkx/readwrite/graphml.py:1031: UserWarning: No key type for id FASCIA_ORARIA_VIAGGIO. Using string\n",
      "  warnings.warn(f\"No key type for id {attr_id}. Using string\")\n",
      "/Users/laudie/opt/anaconda3/envs/socialMining/lib/python3.9/site-packages/networkx/readwrite/graphml.py:1031: UserWarning: No key type for id NumViaggiGiornalieri. Using string\n",
      "  warnings.warn(f\"No key type for id {attr_id}. Using string\")\n"
     ]
    }
   ],
   "source": [
    "G = nx.read_graphml('zone_point_graph.graphml')"
   ]
  },
  {
   "cell_type": "code",
   "execution_count": 16,
   "id": "1e49a26c",
   "metadata": {},
   "outputs": [],
   "source": [
    "filtered_graph = nx.DiGraph()\n",
    "for u, v, attr in G.edges(data=True):\n",
    "    if attr.get('label') == 'RELATED':\n",
    "        node_attributes_u = G.nodes[u]\n",
    "        node_attributes_v = G.nodes[v]  \n",
    "        filtered_graph.add_node(u, **node_attributes_u)\n",
    "        filtered_graph.add_node(v, **node_attributes_v)\n",
    "        attr['length'] = float(attr['length'])  # Conversione del peso in un valore numerico\n",
    "        filtered_graph.add_edge(u, v, **attr)"
   ]
  },
  {
   "cell_type": "code",
   "execution_count": 51,
   "id": "ab4e81c7",
   "metadata": {},
   "outputs": [],
   "source": [
    "path_nodes = nx.shortest_path(filtered_graph, 'n6758', 'n6757', weight='length', method='dijkstra')\n"
   ]
  },
  {
   "cell_type": "code",
   "execution_count": null,
   "id": "1e0dd00e",
   "metadata": {},
   "outputs": [],
   "source": [
    "['n6758', 'n1969', 'n1970', 'n6760', 'n6979', 'n6762', 'n5351', 'n9055', 'n6757']"
   ]
  },
  {
   "cell_type": "code",
   "execution_count": 52,
   "id": "79fbaf6f",
   "metadata": {},
   "outputs": [
    {
     "data": {
      "text/plain": [
       "['n6758',\n",
       " 'n1969',\n",
       " 'n1970',\n",
       " 'n6760',\n",
       " 'n6979',\n",
       " 'n6762',\n",
       " 'n5351',\n",
       " 'n9055',\n",
       " 'n6757']"
      ]
     },
     "execution_count": 52,
     "metadata": {},
     "output_type": "execute_result"
    }
   ],
   "source": [
    "path_nodes"
   ]
  },
  {
   "cell_type": "code",
   "execution_count": 27,
   "id": "352ddbaf",
   "metadata": {},
   "outputs": [
    {
     "data": {
      "text/plain": [
       "8"
      ]
     },
     "execution_count": 27,
     "metadata": {},
     "output_type": "execute_result"
    }
   ],
   "source": [
    "distance = nx.shortest_path_length(filtered_graph, 'n6758', 'n6757')\n",
    "distance"
   ]
  },
  {
   "cell_type": "code",
   "execution_count": null,
   "id": "88a9fa9b",
   "metadata": {},
   "outputs": [],
   "source": [
    "expanded_network = nx.DiGraph()\n"
   ]
  },
  {
   "cell_type": "code",
   "execution_count": 61,
   "id": "2c8d7653",
   "metadata": {},
   "outputs": [],
   "source": [
    "import networkx as nx\n",
    "\n",
    "# Creazione della rete espansa\n",
    "expanded_network = nx.DiGraph()\n",
    "\n",
    "# Aggiunta dei nodi del percorso all'expanded network\n",
    "expanded_network.add_nodes_from(path_nodes)\n",
    "\n",
    "# Aggiunta del nodo iniziale 's' e del nodo finale 't'\n",
    "expanded_network.add_node('s')\n",
    "expanded_network.add_node('t')\n",
    "\n",
    "# Calcolo della distanza tra i nodi e aggiunta degli archi se la distanza è < 200\n",
    "for i in range(len(path_nodes) - 1):\n",
    "    # Per il nodo di origine del path\n",
    "    if i == 0:\n",
    "        o = path_nodes[i]\n",
    "        expanded_network.add_edge('s', o)\n",
    "        for j in range(1, len(path_nodes) - 1):\n",
    "            d = path_nodes[j]\n",
    "            distance = nx.shortest_path_length(filtered_graph, o, d,  weight='length')\n",
    "            if distance < 200:\n",
    "                expanded_network.add_edge('s', d)\n",
    "            if distance < 400:\n",
    "                expanded_network.add_edge(o, d)\n",
    "                \n",
    "    # per il nodo destinazione del path\n",
    "    elif i == len(path_nodes)-1:\n",
    "        o = path_nodes[i]\n",
    "        expanded_network.add_edge(o, 't')\n",
    "        for j in range(len(path_nodes) - 2):\n",
    "            d = path_nodes[j]\n",
    "            distance = nx.shortest_path_length(filtered_graph, d, o,  weight='length')\n",
    "            if distance < 200:\n",
    "                expanded_network.add_edge(d, 't')\n",
    "            if distance < 400:\n",
    "                expanded_network.add_edge(d, o)\n",
    "    \n",
    "    else:\n",
    "        o = path_nodes[i]\n",
    "        for j in range(len(path_nodes) - 1):\n",
    "            d = path_nodes[j]\n",
    "            if o != d:\n",
    "                distance = nx.shortest_path_length(filtered_graph, o, d,  weight='length')\n",
    "                if distance < 400:\n",
    "                    expanded_network.add_edge(o, d)\n",
    "\n"
   ]
  },
  {
   "cell_type": "code",
   "execution_count": 62,
   "id": "49d2c482",
   "metadata": {},
   "outputs": [
    {
     "data": {
      "text/plain": [
       "NodeDataView({'n6758': {}, 'n1969': {}, 'n1970': {}, 'n6760': {}, 'n6979': {}, 'n6762': {}, 'n5351': {}, 'n9055': {}, 'n6757': {}, 's': {}, 't': {}})"
      ]
     },
     "execution_count": 62,
     "metadata": {},
     "output_type": "execute_result"
    }
   ],
   "source": [
    "expanded_network.nodes(data=True)"
   ]
  },
  {
   "cell_type": "code",
   "execution_count": 50,
   "id": "42d36608",
   "metadata": {},
   "outputs": [
    {
     "name": "stdout",
     "output_type": "stream",
     "text": [
      "DISTANCE FROM n6758 E n1969 : 140.16799999999998\n",
      "DISTANCE FROM n6758 E n1970 : 178.546\n",
      "DISTANCE FROM n1969 E n1970 : 38.378\n",
      "DISTANCE FROM n1969 E n6760 : 76.01599999999999\n",
      "DISTANCE FROM n1969 E n6979 : 85.26499999999999\n",
      "DISTANCE FROM n1970 E n1969 : 38.378\n",
      "DISTANCE FROM n1970 E n6760 : 37.638\n",
      "DISTANCE FROM n1970 E n6979 : 46.887\n",
      "DISTANCE FROM n6760 E n1969 : 76.01599999999999\n",
      "DISTANCE FROM n6760 E n1970 : 37.638\n",
      "DISTANCE FROM n6760 E n6979 : 9.249\n",
      "DISTANCE FROM n6762 E n5351 : 89.603\n",
      "DISTANCE FROM n6762 E n9055 : 93.032\n",
      "DISTANCE FROM n5351 E n9055 : 3.429\n",
      "DISTANCE FROM n9055 E n5351 : 180.804\n"
     ]
    }
   ],
   "source": [
    "for i in range(len(path_nodes) - 1):\n",
    "    for j in range(len(path_nodes) - 1):\n",
    "        if i != j:\n",
    "            distance = nx.shortest_path_length(filtered_graph, path_nodes[i], path_nodes[j],  weight='length')\n",
    "            if distance < 200:\n",
    "                print(\"DISTANCE FROM \" + str(path_nodes[i]) + \" E \" + str(path_nodes[j]) + \" : \" + str(distance))\n"
   ]
  },
  {
   "cell_type": "code",
   "execution_count": 63,
   "id": "d7115042",
   "metadata": {},
   "outputs": [
    {
     "data": {
      "text/plain": [
       "OutEdgeDataView([('n6758', 'n1969', {}), ('n6758', 'n1970', {}), ('n6758', 'n6760', {}), ('n6758', 'n6979', {}), ('n1969', 'n1970', {}), ('n1969', 'n6760', {}), ('n1969', 'n6979', {}), ('n1969', 'n6762', {}), ('n1970', 'n1969', {}), ('n1970', 'n6760', {}), ('n1970', 'n6979', {}), ('n1970', 'n6762', {}), ('n6760', 'n1969', {}), ('n6760', 'n1970', {}), ('n6760', 'n6979', {}), ('n6760', 'n6762', {}), ('n6760', 'n5351', {}), ('n6760', 'n9055', {}), ('n6979', 'n6762', {}), ('n6979', 'n5351', {}), ('n6979', 'n9055', {}), ('n6762', 'n5351', {}), ('n6762', 'n9055', {}), ('n5351', 'n6760', {}), ('n5351', 'n6979', {}), ('n5351', 'n9055', {}), ('n9055', 'n6760', {}), ('n9055', 'n6979', {}), ('n9055', 'n5351', {}), ('s', 'n6758', {}), ('s', 'n1969', {}), ('s', 'n1970', {})])"
      ]
     },
     "execution_count": 63,
     "metadata": {},
     "output_type": "execute_result"
    }
   ],
   "source": [
    "expanded_network.edges(data=True)"
   ]
  },
  {
   "cell_type": "code",
   "execution_count": 66,
   "id": "625df329",
   "metadata": {},
   "outputs": [
    {
     "name": "stdout",
     "output_type": "stream",
     "text": [
      "Vincolo di bilancio generico per il nodo n6758: 3\n",
      "Vincolo di bilancio generico per il nodo n1969: 0\n",
      "Vincolo di bilancio generico per il nodo n1970: 0\n",
      "Vincolo di bilancio generico per il nodo n6760: 1\n",
      "Vincolo di bilancio generico per il nodo n6979: -3\n",
      "Vincolo di bilancio generico per il nodo n6762: -2\n",
      "Vincolo di bilancio generico per il nodo n5351: -1\n",
      "Vincolo di bilancio generico per il nodo n9055: -1\n",
      "Vincolo di bilancio generico per il nodo n6757: 0\n",
      "Vincolo di bilancio per il nodo 's': 2\n",
      "Vincolo di bilancio per il nodo 't': 1\n"
     ]
    }
   ],
   "source": [
    "import networkx as nx\n",
    "\n",
    "# Calcolo dei vincoli di bilancio generici per ogni nodo nell'expanded network\n",
    "for node in expanded_network.nodes():\n",
    "    if node not in ['s', 't']:\n",
    "        incoming_arcs = expanded_network.in_edges(node)  # Archi entranti nel nodo\n",
    "        outgoing_arcs = expanded_network.out_edges(node)  # Archi uscenti dal nodo\n",
    "        \n",
    "        incoming_flow_sum = len(incoming_arcs)  # Somma dei flussi entranti (numero di archi entranti)\n",
    "        outgoing_flow_sum = len(outgoing_arcs)  # Somma dei flussi uscenti (numero di archi uscenti)\n",
    "        \n",
    "        # Vincolo di bilancio generico per il nodo\n",
    "        balance_constraint = outgoing_flow_sum - incoming_flow_sum\n",
    "        \n",
    "        print(f\"Vincolo di bilancio generico per il nodo {node}: {balance_constraint}\")\n",
    "\n",
    "\n",
    "# Calcolo dei vincoli di bilancio per il nodo 's'\n",
    "outgoing_arcs_s = expanded_network.out_edges('s')  # Archi uscenti dal nodo 's'\n",
    "outgoing_flow_sum_s = len(outgoing_arcs_s)  # Somma dei flussi uscenti (numero di archi uscenti)\n",
    "balance_constraint_s = outgoing_flow_sum_s - 1  # Vincolo di bilancio per il nodo 's'\n",
    "\n",
    "print(f\"Vincolo di bilancio per il nodo 's': {balance_constraint_s}\")\n",
    "\n",
    "# Calcolo dei vincoli di bilancio per il nodo 't'\n",
    "incoming_arcs_t = expanded_network.in_edges('t')  # Archi entranti nel nodo 't'\n",
    "incoming_flow_sum_t = len(incoming_arcs_t)  # Somma dei flussi entranti (numero di archi entranti)\n",
    "balance_constraint_t = incoming_flow_sum_t + 1  # Vincolo di bilancio per il nodo 't'\n",
    "\n",
    "print(f\"Vincolo di bilancio per il nodo 't': {balance_constraint_t}\")\n"
   ]
  },
  {
   "cell_type": "code",
   "execution_count": null,
   "id": "9bb1cb99",
   "metadata": {},
   "outputs": [],
   "source": []
  }
 ],
 "metadata": {
  "kernelspec": {
   "display_name": "Python 3 (ipykernel)",
   "language": "python",
   "name": "python3"
  },
  "language_info": {
   "codemirror_mode": {
    "name": "ipython",
    "version": 3
   },
   "file_extension": ".py",
   "mimetype": "text/x-python",
   "name": "python",
   "nbconvert_exporter": "python",
   "pygments_lexer": "ipython3",
   "version": "3.9.16"
  }
 },
 "nbformat": 4,
 "nbformat_minor": 5
}
